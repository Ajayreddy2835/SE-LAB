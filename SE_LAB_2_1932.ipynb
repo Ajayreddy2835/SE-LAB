{
  "nbformat": 4,
  "nbformat_minor": 0,
  "metadata": {
    "colab": {
      "provenance": [],
      "authorship_tag": "ABX9TyMjL1/zTX2Vxi0JyqfreewW",
      "include_colab_link": true
    },
    "kernelspec": {
      "name": "python3",
      "display_name": "Python 3"
    },
    "language_info": {
      "name": "python"
    }
  },
  "cells": [
    {
      "cell_type": "markdown",
      "metadata": {
        "id": "view-in-github",
        "colab_type": "text"
      },
      "source": [
        "<a href=\"https://colab.research.google.com/github/Ajayreddy2835/SE-LAB/blob/main/SE_LAB_2_1932.ipynb\" target=\"_parent\"><img src=\"https://colab.research.google.com/assets/colab-badge.svg\" alt=\"Open In Colab\"/></a>"
      ]
    },
    {
      "cell_type": "code",
      "execution_count": null,
      "metadata": {
        "id": "lL1pQcouN5yj"
      },
      "outputs": [],
      "source": [
        "#implement weather modelling using the quadratic solutions in stages: hardcoded variables, keyboard input, read from file, for a single set of input, for multiple set of inputs"
      ]
    },
    {
      "cell_type": "code",
      "source": [
        "# temperature function\n",
        "def temperature(a,b,c, time):\n",
        "    temp = a*time*time+b*time+c #corrected typo here in temp calculation : atime to a\n",
        "    return temp"
      ],
      "metadata": {
        "id": "zHC4-YFcPJBn"
      },
      "execution_count": null,
      "outputs": []
    },
    {
      "cell_type": "code",
      "source": [
        "#hardcoded variables\n",
        "a,b,c = 0.2,4,7\n",
        "time = 5"
      ],
      "metadata": {
        "id": "ctXF3DwMQKSU"
      },
      "execution_count": null,
      "outputs": []
    },
    {
      "cell_type": "code",
      "source": [
        "print(\"temperature from hardcoded variable is\", temperature(a, b,c, time))"
      ],
      "metadata": {
        "colab": {
          "base_uri": "https://localhost:8080/"
        },
        "id": "rUJuHwJQQQzS",
        "outputId": "512b3776-e898-465c-bb59-161f3e22153a"
      },
      "execution_count": null,
      "outputs": [
        {
          "output_type": "stream",
          "name": "stdout",
          "text": [
            "temperature from hardcoded variable is 32.0\n"
          ]
        }
      ]
    },
    {
      "cell_type": "code",
      "source": [
        "#keyboard input\n",
        "a=float(input(\"Enter the value of a: \"))\n",
        "b=float(input(\"Enter the value of b: \"))\n",
        "c=float(input(\"Enter the value of c: \"))\n",
        "time = int(input(\"Enter time: \"))"
      ],
      "metadata": {
        "colab": {
          "base_uri": "https://localhost:8080/"
        },
        "id": "R8Hvw8t_QaB7",
        "outputId": "3a483624-ce40-4913-c279-8c4b68b907f9"
      },
      "execution_count": null,
      "outputs": [
        {
          "name": "stdout",
          "output_type": "stream",
          "text": [
            "Enter the value of a: 0.1\n",
            "Enter the value of b: 3\n",
            "Enter the value of c: 5\n",
            "Enter time: 5\n"
          ]
        }
      ]
    },
    {
      "cell_type": "code",
      "source": [
        "print(\"temperature from keyboard input variable is \",temperature(a,b,c,time))"
      ],
      "metadata": {
        "colab": {
          "base_uri": "https://localhost:8080/"
        },
        "id": "Lpc7V1lHQxLt",
        "outputId": "74b86b13-2b21-4c85-d77c-660733568db3"
      },
      "execution_count": null,
      "outputs": [
        {
          "output_type": "stream",
          "name": "stdout",
          "text": [
            "temperature from keyboard input variable is  22.5\n"
          ]
        }
      ]
    },
    {
      "cell_type": "code",
      "source": [
        "def read_from_file(input):\n",
        "  with open('input.txt','r') as file:\n",
        "    lines = file.readlines()\n",
        "  input = [tuple(map(float,line.strip().split(','))) for line in lines]\n",
        "  return input"
      ],
      "metadata": {
        "id": "d0PciEHTQ9bB"
      },
      "execution_count": null,
      "outputs": []
    },
    {
      "cell_type": "code",
      "source": [
        "!touch /content/input.txt\n",
        "with open('/content/input.txt', 'w') as f:\n",
        "    f.write('0.4,2,5,5')"
      ],
      "metadata": {
        "id": "FkvC6gxtScm8"
      },
      "execution_count": null,
      "outputs": []
    },
    {
      "cell_type": "code",
      "source": [
        "input_file_path = '/path/to/your/input.txt'"
      ],
      "metadata": {
        "id": "nvlpthDtSe-W"
      },
      "execution_count": null,
      "outputs": []
    },
    {
      "cell_type": "code",
      "source": [
        "#single set of inputs\n",
        "input_data = read_from_file('/content/input.txt')  # Changed to the correct file path\n",
        "a, b, c, time = input_data[0]\n",
        "print(\"temperature from file with single input is \", temperature(a, b, c, time))"
      ],
      "metadata": {
        "colab": {
          "base_uri": "https://localhost:8080/"
        },
        "id": "BTiTiVq5TljZ",
        "outputId": "38ad1ad0-5aba-4bf6-c57d-7cf1a3de1d09"
      },
      "execution_count": null,
      "outputs": [
        {
          "output_type": "stream",
          "name": "stdout",
          "text": [
            "temperature from file with single input is  25.0\n"
          ]
        }
      ]
    },
    {
      "cell_type": "code",
      "source": [
        "#multiple set of inputs\n",
        "for idx, (a,b,c,time) in enumerate(input_data): # Changed input to input_data to use data read from the file\n",
        "    print (\"temperature from file with multiple input is \", temperature(a,b,c,time)) # Indented the print statement"
      ],
      "metadata": {
        "colab": {
          "base_uri": "https://localhost:8080/"
        },
        "id": "nOCHedloWSn5",
        "outputId": "479c5207-1804-4e1a-f6a7-c6f3ce705edb"
      },
      "execution_count": null,
      "outputs": [
        {
          "output_type": "stream",
          "name": "stdout",
          "text": [
            "temperature from file with multiple input is  25.0\n"
          ]
        }
      ]
    }
  ]
}